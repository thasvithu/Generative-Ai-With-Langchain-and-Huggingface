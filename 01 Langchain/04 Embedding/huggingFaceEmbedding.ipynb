{
 "cells": [
  {
   "cell_type": "markdown",
   "id": "0944c2ee",
   "metadata": {},
   "source": [
    "#### HuggingFace Embedding Technique"
   ]
  },
  {
   "cell_type": "code",
   "execution_count": null,
   "id": "e11c2655",
   "metadata": {},
   "outputs": [],
   "source": []
  }
 ],
 "metadata": {
  "kernelspec": {
   "display_name": "Python 3",
   "language": "python",
   "name": "python3"
  },
  "language_info": {
   "name": "python",
   "version": "3.10.0"
  }
 },
 "nbformat": 4,
 "nbformat_minor": 5
}
